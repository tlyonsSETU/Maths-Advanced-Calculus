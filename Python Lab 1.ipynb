{
  "cells": [
    {
      "cell_type": "markdown",
      "metadata": {
        "id": "view-in-github",
        "colab_type": "text"
      },
      "source": [
        "<a href=\"https://colab.research.google.com/github/tlyonsSETU/Maths-Advanced-Calculus/blob/main/Python%20Lab%201.ipynb\" target=\"_parent\"><img src=\"https://colab.research.google.com/assets/colab-badge.svg\" alt=\"Open In Colab\"/></a>"
      ]
    },
    {
      "cell_type": "markdown",
      "metadata": {
        "collapsed": true,
        "id": "c_3_zOKaqFM_"
      },
      "source": [
        "## South East Technological University - Waterford\n",
        "---\n",
        "\n",
        "# Maths Advanced Calculus - Python Lab 1\n",
        "\n",
        "### B Eng (H) Electrical Engineering - Year 2  \n",
        "### B Eng (H) Electronic Engineering - Year 2  \n",
        "### B Sc (H) Physics for Modern Technology - Year 2  \n",
        "\n",
        "\n",
        "\n",
        "---\n",
        " "
      ]
    },
    {
      "cell_type": "markdown",
      "metadata": {
        "id": "01mAAaYV5WAM"
      },
      "source": [
        "# Topic 1 - Vectors in 2-dimensions (2D)\n",
        "\n",
        "## Items Covered:\n",
        "\n",
        "1. Points in the plane\n",
        "\n",
        "2. Components of vectors\n",
        "\n",
        "3. Plotting vectors with __quiver()__\n",
        "\n",
        "4. Adding and subtracting vectors"
      ]
    },
    {
      "cell_type": "markdown",
      "metadata": {
        "id": "mmWPdMeCqFNH"
      },
      "source": [
        "## Calling the python libraries and functions\n",
        "\n",
        "\n",
        "* In the cell below the necessary Python libraries and functions are imported, which will be needed for the current work book\n"
      ]
    },
    {
      "cell_type": "code",
      "execution_count": null,
      "metadata": {
        "id": "7Qk8SxWnqFNJ"
      },
      "outputs": [],
      "source": [
        "import matplotlib.pyplot as plt  ## Library of functions for 2D plotting\n",
        "import numpy as np ## Library of function for numerical work"
      ]
    },
    {
      "cell_type": "markdown",
      "metadata": {
        "id": "RlaTV-Wt7UgF"
      },
      "source": [
        "---\n",
        "## Item 1 - Points in the plane\n",
        "\n",
        "* To begin, we will see how to plot points in the (x,y)-plane using the __plt.plot()__ function\n",
        "\n",
        "* As a very simple example, we are going to plot the point P(3 , 4) with a blue, round marker\n",
        "\n",
        "* We will also plot the point Q(-1 , 2) with a red, square marker"
      ]
    },
    {
      "cell_type": "markdown",
      "metadata": {
        "id": "yEEOGVpDBvC-"
      },
      "source": [
        "### Item 1(a) Defining the points\n",
        "\n",
        "* To begin we define Px and Py as the x and y coordinates of the point P as follows:"
      ]
    },
    {
      "cell_type": "code",
      "execution_count": null,
      "metadata": {
        "id": "S-efQtKW6nXr"
      },
      "outputs": [],
      "source": [
        "Px , Py = 3 , 4"
      ]
    },
    {
      "cell_type": "markdown",
      "metadata": {
        "id": "B-_qqsAHClUK"
      },
      "source": [
        "* We can define the coordinates Qx, Qy of the point Q in a similar way:"
      ]
    },
    {
      "cell_type": "code",
      "execution_count": null,
      "metadata": {
        "id": "4MeCLWTBCqoL"
      },
      "outputs": [],
      "source": [
        "Qx , Qy = -1 , 2"
      ]
    },
    {
      "cell_type": "markdown",
      "metadata": {
        "id": "1HQnlAZhLfQ2"
      },
      "source": [
        "### Item 1(b) - Plotting the points\n",
        "\n",
        "* The points P with coordinate (Px , Py) and Q with coordinates (Qx , Qy) are plotted using the __plt.plot()__ command, shown below"
      ]
    },
    {
      "cell_type": "code",
      "execution_count": null,
      "metadata": {
        "colab": {
          "base_uri": "https://localhost:8080/",
          "height": 297
        },
        "id": "NBu2ZDtP6w5J",
        "outputId": "036ae924-5d8f-41bf-a793-c70a86577ffd"
      },
      "outputs": [
        {
          "data": {
            "text/plain": [
              "Text(0, 0.5, 'y')"
            ]
          },
          "execution_count": 4,
          "metadata": {},
          "output_type": "execute_result"
        },
        {
          "data": {
            "image/png": "[encoded data removed]",
            "text/plain": [
              "<Figure size 432x288 with 1 Axes>"
            ]
          },
          "metadata": {
            "needs_background": "light"
          },
          "output_type": "display_data"
        }
      ],
      "source": [
        "plt.plot(Px,Py , 'o' , color='blue') # Plot the point P. The arguemnt 'o' indicate the marker should be round.\n",
        "plt.plot(Qx,Qy , 's' , color='red') # The argument 's' indicate the marker should be square.\n",
        "plt.xlabel('x') # Label the x-axis\n",
        "plt.ylabel('y') # Label the y-axis"
      ]
    },
    {
      "cell_type": "markdown",
      "metadata": {
        "id": "_B2KYgECA1ST"
      },
      "source": [
        "## Help with functions:\n",
        "\n",
        "* A useful feature of Python is the help call __?__  which can be used in a code cell\n",
        "\n",
        "* To get a full list of markers avaliable in the __plt.plot()__ command we can call the  help file as below which gives much more information also!!\n",
        "\n",
        "* The help panel appears in a tab on the right of the workbook which can be closed by pressing the x mark in the tab"
      ]
    },
    {
      "cell_type": "code",
      "execution_count": null,
      "metadata": {
        "id": "Nc2UlmD4_NfZ"
      },
      "outputs": [],
      "source": [
        "plt.plot?"
      ]
    },
    {
      "cell_type": "markdown",
      "metadata": {
        "id": "8Vj8bvCnKFz8"
      },
      "source": [
        "## Exercise 1\n",
        "\n",
        "1.  Create coordinates for the points \n",
        "* A(-3.2 , 4.5)\n",
        "* B(2.3 , 2.5)\n",
        "* C(-5.5 , 6.7)\n",
        "\n",
        "\n",
        "2. Use the example in Item 1(b) to plot these points, using a different marker and color for each point. \n",
        "\n",
        "* A full list of colours is available at [list of python colours](https://matplotlib.org/stable/gallery/color/named_colors.html) \n",
        "\n"
      ]
    },
    {
      "cell_type": "code",
      "execution_count": null,
      "metadata": {
        "id": "EZwTIk88LV32"
      },
      "outputs": [],
      "source": []
    },
    {
      "cell_type": "code",
      "execution_count": null,
      "metadata": {
        "id": "6Ys8UsmaLV6X"
      },
      "outputs": [],
      "source": []
    },
    {
      "cell_type": "code",
      "execution_count": null,
      "metadata": {
        "id": "o8Xrf0iWLV8-"
      },
      "outputs": [],
      "source": []
    },
    {
      "cell_type": "code",
      "execution_count": null,
      "metadata": {
        "id": "9F_gbXnqLV_W"
      },
      "outputs": [],
      "source": []
    },
    {
      "cell_type": "markdown",
      "metadata": {
        "id": "_kN4y9MPqFNL"
      },
      "source": [
        "---\n",
        "## Item 2 -  Components of vectors\n",
        "\n",
        "* We can draw the vector $\\vec{PQ}$ pointing from P to Q using the __plt.quiver()__ command\n",
        "\n",
        "* Before doing this, we first have to get the $\\hat{\\imath}$ and $\\hat{\\jmath}$ components of the vector $\\vec{PQ}$ by subtracting these points\n",
        "\n",
        "* We will call these components PQx and PQy, i.e. the x-component of PQ and the y-component of PQ"
      ]
    },
    {
      "cell_type": "code",
      "execution_count": null,
      "metadata": {
        "colab": {
          "base_uri": "https://localhost:8080/"
        },
        "id": "uidaKYvqEqTR",
        "outputId": "1267660f-48c2-413a-e31f-02529e3c7146"
      },
      "outputs": [
        {
          "data": {
            "text/plain": [
              "(-4, -2)"
            ]
          },
          "execution_count": 6,
          "metadata": {},
          "output_type": "execute_result"
        }
      ],
      "source": [
        "PQx,PQy = Qx-Px , Qy-Py\n",
        "PQx,PQy"
      ]
    },
    {
      "cell_type": "markdown",
      "metadata": {
        "id": "fiDFytjSMieC"
      },
      "source": [
        "## Exercise 2\n",
        "\n",
        "* Using the example in Item 2, fnd the components of the vectors $\\vec{AB}$, $\\vec{BC}$ and $\\vec{AC}$."
      ]
    },
    {
      "cell_type": "code",
      "execution_count": null,
      "metadata": {
        "id": "IfajgmLZMyff"
      },
      "outputs": [],
      "source": []
    },
    {
      "cell_type": "code",
      "execution_count": null,
      "metadata": {
        "id": "hiO194SZMyht"
      },
      "outputs": [],
      "source": []
    },
    {
      "cell_type": "code",
      "execution_count": null,
      "metadata": {
        "id": "rMebzHsDMykN"
      },
      "outputs": [],
      "source": []
    },
    {
      "cell_type": "code",
      "execution_count": null,
      "metadata": {
        "id": "GapB7j8eMy5z"
      },
      "outputs": [],
      "source": []
    },
    {
      "cell_type": "markdown",
      "metadata": {
        "id": "u29EQfqKNJbn"
      },
      "source": [
        "---\n",
        "## Item 3 - Plotting vectors with __quiver()__\n",
        "\n",
        "* We will now plot the vector $\\vec{PQ}$, the vector starting at P and ending at Q\n",
        "\n",
        "* The components of this vector have already been found i.e. PQx and PQy\n",
        "\n",
        "* The __plt.quiver()__ function is a way to plot a vector between two points in the plane\n",
        "\n",
        "\n",
        "### Createing the plot\n",
        "\n",
        "* To plot the vector we need at least 4 input numbers:\n",
        "    1. Two numbers for the start point, in this case Px and Py since the vector starts at P\n",
        "    2. Two numbers for the components of the vector, in this case PQx and PQy"
      ]
    },
    {
      "cell_type": "markdown",
      "metadata": {
        "id": "FuzAHPFcGjZX"
      },
      "source": [
        "* The plot with the points and vector is now given by:"
      ]
    },
    {
      "cell_type": "code",
      "execution_count": null,
      "metadata": {
        "colab": {
          "base_uri": "https://localhost:8080/",
          "height": 297
        },
        "id": "WBavv9MWGzaQ",
        "outputId": "a0ad0a17-8ea3-407f-83a0-a1d0019024fc"
      },
      "outputs": [
        {
          "data": {
            "text/plain": [
              "Text(0, 0.5, 'y')"
            ]
          },
          "execution_count": 7,
          "metadata": {},
          "output_type": "execute_result"
        },
        {
          "data": {
            "image/png": "[encoded data removed]",
            "text/plain": [
              "<Figure size 432x288 with 1 Axes>"
            ]
          },
          "metadata": {
            "needs_background": "light"
          },
          "output_type": "display_data"
        }
      ],
      "source": [
        "plt.plot(Px,Py,'o',color='blue') # Plot the point P. The arguemnt 'o' indicates the marker should be round.\n",
        "plt.plot(Qx,Qy,'s',color='red') # The argument 's' indicates the marker should be square.\n",
        "\n",
        "plt.quiver(Px,Py,PQx,PQy,angles='xy',scale_units='xy',scale=1) # This plots the arrow pointing from P to Q\n",
        "\n",
        "plt.xlabel('x') # Label the x-axis\n",
        "plt.ylabel('y') # Label the y-axis"
      ]
    },
    {
      "cell_type": "markdown",
      "metadata": {
        "id": "2zef1IbrHPEV"
      },
      "source": [
        "## The __quiver()__ function\n",
        "\n",
        "* The __quiver()__ function requires the start point of the vector, i.e. Px and Py\n",
        "\n",
        "* It also requires the components of the vector i.e. PQx and PQy\n",
        "\n",
        "* The other arguments __scale__, __scale_units__ and __unit__ are set so that the apropriate scale is used to draw the arrow, see \n",
        "__plt.quiver?__ below"
      ]
    },
    {
      "cell_type": "code",
      "execution_count": null,
      "metadata": {
        "id": "KOvGAYqaIGjj"
      },
      "outputs": [],
      "source": [
        "plt.quiver?"
      ]
    },
    {
      "cell_type": "markdown",
      "metadata": {
        "id": "bkRmvkflqFNL"
      },
      "source": [
        "## Exercise 3\n",
        "\n",
        "* Use the example in Item 3 to plot the vectors $\\vec{AB}$, $\\vec{BC}$ and $\\vec{AC}$ using the __plt.quiver()__ function."
      ]
    },
    {
      "cell_type": "code",
      "execution_count": null,
      "metadata": {
        "id": "smvT7CMcqFNm"
      },
      "outputs": [],
      "source": []
    },
    {
      "cell_type": "code",
      "execution_count": null,
      "metadata": {
        "id": "7Swyfg0AJ0MO"
      },
      "outputs": [],
      "source": []
    },
    {
      "cell_type": "markdown",
      "metadata": {
        "id": "sGoXoohKO_4H"
      },
      "source": [
        "---\n",
        "## Item 4 - Adding and subtracting vectors\n",
        "\n",
        "* We could try to create the points P and Q as a list of numbers as follows:"
      ]
    },
    {
      "cell_type": "code",
      "execution_count": null,
      "metadata": {
        "colab": {
          "base_uri": "https://localhost:8080/"
        },
        "id": "zxx3HrQDPLNJ",
        "outputId": "3c8702e0-fde4-465a-b07e-3bce69c8fc55"
      },
      "outputs": [
        {
          "data": {
            "text/plain": [
              "(3, 4)"
            ]
          },
          "execution_count": 16,
          "metadata": {},
          "output_type": "execute_result"
        }
      ],
      "source": [
        "P = Px , Py\n",
        "P"
      ]
    },
    {
      "cell_type": "code",
      "execution_count": null,
      "metadata": {
        "colab": {
          "base_uri": "https://localhost:8080/"
        },
        "id": "GXlAON7tPMqY",
        "outputId": "b7894dfe-8350-401a-e8d5-4954ae285e31"
      },
      "outputs": [
        {
          "data": {
            "text/plain": [
              "(-1, 2)"
            ]
          },
          "execution_count": 17,
          "metadata": {},
          "output_type": "execute_result"
        }
      ],
      "source": [
        "Q = Qx , Qy\n",
        "Q"
      ]
    },
    {
      "cell_type": "markdown",
      "metadata": {
        "id": "9VJ-CHF7PTU3"
      },
      "source": [
        "* Clearly P and Q as defined above are both two-component objects i.e. points\n",
        "\n",
        "* However, we cannot subtract these points directly to find the vector connecting the points, as this will return the error shown below:"
      ]
    },
    {
      "cell_type": "code",
      "execution_count": null,
      "metadata": {
        "colab": {
          "base_uri": "https://localhost:8080/",
          "height": 174
        },
        "id": "NHdPTy3wPOqv",
        "outputId": "a3dd3e7d-fcf0-4a53-9ca3-f93693a90cb8"
      },
      "outputs": [
        {
          "ename": "TypeError",
          "evalue": "ignored",
          "output_type": "error",
          "traceback": [
            "\u001b[0;31m---------------------------------------------------------------------------\u001b[0m",
            "\u001b[0;31mTypeError\u001b[0m                                 Traceback (most recent call last)",
            "\u001b[0;32m<ipython-input-18-55ad60bf3285>\u001b[0m in \u001b[0;36m<module>\u001b[0;34m\u001b[0m\n\u001b[0;32m----> 1\u001b[0;31m \u001b[0mQ\u001b[0m \u001b[0;34m-\u001b[0m \u001b[0mP\u001b[0m\u001b[0;34m\u001b[0m\u001b[0;34m\u001b[0m\u001b[0m\n\u001b[0m",
            "\u001b[0;31mTypeError\u001b[0m: unsupported operand type(s) for -: 'tuple' and 'tuple'"
          ]
        }
      ],
      "source": [
        "Q - P"
      ]
    },
    {
      "cell_type": "markdown",
      "metadata": {
        "id": "RrZjmBD1P0Bw"
      },
      "source": [
        "# A function to create vectors\n",
        "\n",
        "* We can __def__ine a function to create 2-component arrays to represent both __points__ and __vectors__ which can be added and subtracted directly\n",
        "\n",
        "* This function will use the __np.array([ ])__ command, which will create an array to represent points and vectors\n",
        "\n",
        "* We can call this function anything we want, since it is our own definition\n",
        "\n",
        "* We will call it __v2d()__ which stands for __vector2d__, i.e. a function to create a 2-dimensional vector (or point)"
      ]
    },
    {
      "cell_type": "code",
      "execution_count": null,
      "metadata": {
        "id": "1Xcj9jCDPu7o"
      },
      "outputs": [],
      "source": [
        "def v2d(a,b):\n",
        "    return np.array([a,b])"
      ]
    },
    {
      "cell_type": "markdown",
      "metadata": {
        "id": "i-mf1inqQxOb"
      },
      "source": [
        "* The function take two inputs __a__ and __b__ which are the components of a vector or coordinates of a point\n",
        "\n",
        "* In reality this function sees no difference between points and vectors\n",
        "\n",
        "\n",
        "## Example: \n",
        "\n",
        "Part 1. Use the function __v2d()__ to define the points \n",
        "* A(1.3 , 5.6)\n",
        "* B(4 , 7)\n",
        "* C(6.2 ,-8.7) \n",
        "   \n",
        "Part 2. Now subtract these points directly to find the vectors\n",
        "* $\\vec{AB}$\n",
        "* $\\vec{BC}$\n",
        "* $\\vec{AC}$\n",
        "\n",
        "Part 3. Also add these vectors directly to find $\\vec{AB} + \\vec{BC}$ and show that $$\\vec{AB} + \\vec{BC} = \\vec{AC}$$"
      ]
    },
    {
      "cell_type": "markdown",
      "metadata": {
        "id": "7xT9odM0S8X5"
      },
      "source": [
        "#### Part 1 - Solution"
      ]
    },
    {
      "cell_type": "code",
      "execution_count": null,
      "metadata": {
        "colab": {
          "base_uri": "https://localhost:8080/"
        },
        "id": "kiOvqIJ6RD-B",
        "outputId": "2b9d4974-092c-44d3-e7b4-76801155f538"
      },
      "outputs": [
        {
          "data": {
            "text/plain": [
              "array([1.3, 5.6])"
            ]
          },
          "execution_count": 19,
          "metadata": {},
          "output_type": "execute_result"
        }
      ],
      "source": [
        "A = v2d(1.3 , 5.6)\n",
        "A"
      ]
    },
    {
      "cell_type": "code",
      "execution_count": null,
      "metadata": {
        "colab": {
          "base_uri": "https://localhost:8080/"
        },
        "id": "hTTyQoZNSD-K",
        "outputId": "75477299-0115-41a2-91fc-6a8509fb237c"
      },
      "outputs": [
        {
          "data": {
            "text/plain": [
              "array([4, 7])"
            ]
          },
          "execution_count": 20,
          "metadata": {},
          "output_type": "execute_result"
        }
      ],
      "source": [
        "B = v2d(4 , 7)\n",
        "B"
      ]
    },
    {
      "cell_type": "code",
      "execution_count": null,
      "metadata": {
        "colab": {
          "base_uri": "https://localhost:8080/"
        },
        "id": "tdKBlUzOS08g",
        "outputId": "1d6cb41d-1901-4778-808f-fdeec0cb3356"
      },
      "outputs": [
        {
          "data": {
            "text/plain": [
              "array([ 6.2, -8.7])"
            ]
          },
          "execution_count": 21,
          "metadata": {},
          "output_type": "execute_result"
        }
      ],
      "source": [
        "C = v2d(6.2 , -8.7)\n",
        "C"
      ]
    },
    {
      "cell_type": "code",
      "execution_count": null,
      "metadata": {
        "id": "mABK-WzHS4c-"
      },
      "outputs": [],
      "source": []
    },
    {
      "cell_type": "markdown",
      "metadata": {
        "id": "KDQoMNsqTEdM"
      },
      "source": [
        "#### Part 2 - Solution"
      ]
    },
    {
      "cell_type": "code",
      "execution_count": null,
      "metadata": {
        "colab": {
          "base_uri": "https://localhost:8080/"
        },
        "id": "hP3_O-lqTGyT",
        "outputId": "81e7fdc0-b4d0-425c-b82f-48568341ef7a"
      },
      "outputs": [
        {
          "data": {
            "text/plain": [
              "array([2.7, 1.4])"
            ]
          },
          "execution_count": 11,
          "metadata": {},
          "output_type": "execute_result"
        }
      ],
      "source": [
        "AB = B - A\n",
        "AB"
      ]
    },
    {
      "cell_type": "code",
      "execution_count": null,
      "metadata": {
        "colab": {
          "base_uri": "https://localhost:8080/"
        },
        "id": "3gJxmYKoTJOq",
        "outputId": "6eea3375-7ab7-4f90-ca34-8f85d871dfdf"
      },
      "outputs": [
        {
          "data": {
            "text/plain": [
              "array([  2.2, -15.7])"
            ]
          },
          "execution_count": 12,
          "metadata": {},
          "output_type": "execute_result"
        }
      ],
      "source": [
        "BC = C - B\n",
        "BC"
      ]
    },
    {
      "cell_type": "code",
      "execution_count": null,
      "metadata": {
        "colab": {
          "base_uri": "https://localhost:8080/"
        },
        "id": "_1C6r62STMu6",
        "outputId": "2a01cf63-0226-4ab1-f86d-d77da4abc519"
      },
      "outputs": [
        {
          "data": {
            "text/plain": [
              "array([  4.9, -14.3])"
            ]
          },
          "execution_count": 13,
          "metadata": {},
          "output_type": "execute_result"
        }
      ],
      "source": [
        "AC = C - A\n",
        "AC"
      ]
    },
    {
      "cell_type": "code",
      "execution_count": null,
      "metadata": {
        "id": "7oFqJZY_TPCY"
      },
      "outputs": [],
      "source": []
    },
    {
      "cell_type": "markdown",
      "metadata": {
        "id": "nsq8d5-LTVgZ"
      },
      "source": [
        "#### Part 3 - Solution\n",
        "\n",
        "* The vector sum $\\vec{AB} + \\vec{BC}$ is:"
      ]
    },
    {
      "cell_type": "code",
      "execution_count": null,
      "metadata": {
        "colab": {
          "base_uri": "https://localhost:8080/"
        },
        "id": "SB34Kou9TZae",
        "outputId": "dd98b3d0-70ac-4b31-f318-f42d1d29d7c1"
      },
      "outputs": [
        {
          "data": {
            "text/plain": [
              "array([  4.9, -14.3])"
            ]
          },
          "execution_count": 14,
          "metadata": {},
          "output_type": "execute_result"
        }
      ],
      "source": [
        "AB + BC"
      ]
    },
    {
      "cell_type": "code",
      "execution_count": null,
      "metadata": {
        "id": "IB8CJoHPThlt"
      },
      "outputs": [],
      "source": []
    },
    {
      "cell_type": "markdown",
      "metadata": {
        "id": "nhXfBIKPTn5R"
      },
      "source": [
        "* It is clear that $\\vec{AB}+\\vec{BC} = \\vec{AC}$ just by comparing components\n",
        "\n",
        "* We can also check the __Truth Value__ of this statement using __logical operator ==__"
      ]
    },
    {
      "cell_type": "code",
      "execution_count": null,
      "metadata": {
        "colab": {
          "base_uri": "https://localhost:8080/"
        },
        "id": "ujdh32MMTmYd",
        "outputId": "b78c61db-0f7f-4a37-a51a-3b0f7758ee08"
      },
      "outputs": [
        {
          "data": {
            "text/plain": [
              "array([ True,  True])"
            ]
          },
          "execution_count": 15,
          "metadata": {},
          "output_type": "execute_result"
        }
      ],
      "source": [
        "AB + BC == AC"
      ]
    },
    {
      "cell_type": "markdown",
      "metadata": {
        "id": "3GvnECS3T941"
      },
      "source": [
        "* This confirms the individual components on each side of this equation are equal.\n",
        "\n",
        "* If the components of the vectors are equal, then the vectors are equal!!"
      ]
    },
    {
      "cell_type": "code",
      "execution_count": null,
      "metadata": {
        "id": "8dVMBM4jT65m"
      },
      "outputs": [],
      "source": []
    },
    {
      "cell_type": "markdown",
      "metadata": {
        "id": "rUQVeM-PURZH"
      },
      "source": [
        "## Exercise 4\n",
        "\n",
        "Part 1. Use the function __v2d()__ to define the points\n",
        "* a(-4.3 , 6.1)\n",
        "* b(6.5 , -9.4)\n",
        "* c(-13.4 , 15.7)\n",
        "* d(-6.7 , -3.4)\n",
        "\n",
        "Part 2. Now find the vectors $\\vec{ab}$, $\\vec{bc}$, $\\vec{cd}$ and $\\vec{ad}$ \n",
        "\n",
        "Part 3. Calculate the vector $\\vec{ab} + \\vec{bc} + \\vec{cd}$ and check that  \n",
        "$\\vec{ab} + \\vec{bc} + \\vec{cd} = \\vec{ad}$ is true.\n",
        "\n",
        "__NOTE:__ Part 3 means going from a to b to c to d is the same as going directly from a to d!"
      ]
    },
    {
      "cell_type": "code",
      "execution_count": null,
      "metadata": {
        "id": "Ii9l-VtCVZ7l"
      },
      "outputs": [],
      "source": []
    },
    {
      "cell_type": "code",
      "execution_count": null,
      "metadata": {
        "id": "U2votvcfWJHD"
      },
      "outputs": [],
      "source": []
    },
    {
      "cell_type": "code",
      "execution_count": null,
      "metadata": {
        "id": "SNWLaTbbWJJm"
      },
      "outputs": [],
      "source": []
    },
    {
      "cell_type": "code",
      "execution_count": null,
      "metadata": {
        "id": "hX-s9ySmWJMC"
      },
      "outputs": [],
      "source": []
    }
  ],
  "metadata": {
    "anaconda-cloud": {},
    "colab": {
      "provenance": [],
      "include_colab_link": true
    },
    "kernelspec": {
      "display_name": "Python 3 (ipykernel)",
      "language": "python",
      "name": "python3"
    },
    "language_info": {
      "codemirror_mode": {
        "name": "ipython",
        "version": 3
      },
      "file_extension": ".py",
      "mimetype": "text/x-python",
      "name": "python",
      "nbconvert_exporter": "python",
      "pygments_lexer": "ipython3",
      "version": "3.9.12"
    }
  },
  "nbformat": 4,
  "nbformat_minor": 0
}